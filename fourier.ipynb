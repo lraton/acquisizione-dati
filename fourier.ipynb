{
 "cells": [
  {
   "cell_type": "code",
   "execution_count": 6,
   "metadata": {},
   "outputs": [
    {
     "name": "stderr",
     "output_type": "stream",
     "text": [
      "<>:12: SyntaxWarning: 'int' object is not callable; perhaps you missed a comma?\n",
      "<>:12: SyntaxWarning: 'int' object is not callable; perhaps you missed a comma?\n",
      "/tmp/ipykernel_17248/3628498947.py:12: SyntaxWarning: 'int' object is not callable; perhaps you missed a comma?\n",
      "  som+=1/k*pow(-1(k-1)/2)*np.cos(2*np.pi*k*f0*t)\n"
     ]
    },
    {
     "ename": "TypeError",
     "evalue": "'int' object is not callable",
     "output_type": "error",
     "traceback": [
      "\u001b[0;31m---------------------------------------------------------------------------\u001b[0m",
      "\u001b[0;31mTypeError\u001b[0m                                 Traceback (most recent call last)",
      "\u001b[1;32m/home/iraton/Documents/Universita/acquisizione dati/fourier.ipynb Cell 1\u001b[0m line \u001b[0;36m1\n\u001b[1;32m     <a href='vscode-notebook-cell:/home/iraton/Documents/Universita/acquisizione%20dati/fourier.ipynb#W0sZmlsZQ%3D%3D?line=9'>10</a>\u001b[0m \u001b[39mfor\u001b[39;00m k \u001b[39min\u001b[39;00m \u001b[39mrange\u001b[39m(\u001b[39m1\u001b[39m,\u001b[39m1000\u001b[39m):\n\u001b[1;32m     <a href='vscode-notebook-cell:/home/iraton/Documents/Universita/acquisizione%20dati/fourier.ipynb#W0sZmlsZQ%3D%3D?line=10'>11</a>\u001b[0m     \u001b[39mif\u001b[39;00m k\u001b[39m%\u001b[39m\u001b[39m2\u001b[39m\u001b[39m!=\u001b[39m\u001b[39m0\u001b[39m:\n\u001b[0;32m---> <a href='vscode-notebook-cell:/home/iraton/Documents/Universita/acquisizione%20dati/fourier.ipynb#W0sZmlsZQ%3D%3D?line=11'>12</a>\u001b[0m         som\u001b[39m+\u001b[39m\u001b[39m=\u001b[39m\u001b[39m1\u001b[39m\u001b[39m/\u001b[39mk\u001b[39m*\u001b[39m\u001b[39mpow\u001b[39m(\u001b[39m-\u001b[39m\u001b[39m1\u001b[39;49m(k\u001b[39m-\u001b[39;49m\u001b[39m1\u001b[39;49m)\u001b[39m/\u001b[39m\u001b[39m2\u001b[39m)\u001b[39m*\u001b[39mnp\u001b[39m.\u001b[39mcos(\u001b[39m2\u001b[39m\u001b[39m*\u001b[39mnp\u001b[39m.\u001b[39mpi\u001b[39m*\u001b[39mk\u001b[39m*\u001b[39mf0\u001b[39m*\u001b[39mt)\n\u001b[1;32m     <a href='vscode-notebook-cell:/home/iraton/Documents/Universita/acquisizione%20dati/fourier.ipynb#W0sZmlsZQ%3D%3D?line=13'>14</a>\u001b[0m xt\u001b[39m=\u001b[39m\u001b[39m1\u001b[39m\u001b[39m/\u001b[39m\u001b[39m2\u001b[39m\u001b[39m+\u001b[39m\u001b[39m2\u001b[39m\u001b[39m/\u001b[39mnp\u001b[39m.\u001b[39mpi\u001b[39m*\u001b[39m\u001b[39msum\u001b[39m\n\u001b[1;32m     <a href='vscode-notebook-cell:/home/iraton/Documents/Universita/acquisizione%20dati/fourier.ipynb#W0sZmlsZQ%3D%3D?line=15'>16</a>\u001b[0m plt\u001b[39m.\u001b[39mplot(t,xt)\n",
      "\u001b[0;31mTypeError\u001b[0m: 'int' object is not callable"
     ]
    }
   ],
   "source": [
    "import numpy as np\n",
    "\n",
    "from scipy import signal\n",
    "\n",
    "import matplotlib.pyplot as plt\n",
    "\n",
    "t = np.arange(1000)\n",
    "f0=3\n",
    "som=0\n",
    "xt=[]\n",
    "def x(t1):\n",
    "    for k in range(1,1000):\n",
    "        if k%2!=0:\n",
    "            som+=1/k*pow(-1(k-1)/2)*np.cos(2*np.pi*k*f0*t1)\n",
    "\n",
    "som=1/2+2/np.pi*som\n",
    "\n",
    "for i in t:\n",
    "    xt.append(x(i))\n",
    "\n",
    "plt.plot(t,xt)\n",
    "\n",
    "plt.ylim(-2, 2)"
   ]
  },
  {
   "cell_type": "code",
   "execution_count": null,
   "metadata": {},
   "outputs": [],
   "source": []
  },
  {
   "cell_type": "markdown",
   "metadata": {},
   "source": []
  }
 ],
 "metadata": {
  "kernelspec": {
   "display_name": "Python 3",
   "language": "python",
   "name": "python3"
  },
  "language_info": {
   "codemirror_mode": {
    "name": "ipython",
    "version": 3
   },
   "file_extension": ".py",
   "mimetype": "text/x-python",
   "name": "python",
   "nbconvert_exporter": "python",
   "pygments_lexer": "ipython3",
   "version": "3.11.8"
  }
 },
 "nbformat": 4,
 "nbformat_minor": 2
}
